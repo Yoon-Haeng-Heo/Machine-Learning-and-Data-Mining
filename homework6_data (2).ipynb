{
 "cells": [
  {
   "cell_type": "markdown",
   "metadata": {},
   "source": [
    "## california data (linear regression data)"
   ]
  },
  {
   "cell_type": "code",
   "execution_count": 143,
   "metadata": {
    "scrolled": false
   },
   "outputs": [
    {
     "name": "stdout",
     "output_type": "stream",
     "text": [
      ".. _california_housing_dataset:\n",
      "\n",
      "California Housing dataset\n",
      "--------------------------\n",
      "\n",
      "**Data Set Characteristics:**\n",
      "\n",
      "    :Number of Instances: 20640\n",
      "\n",
      "    :Number of Attributes: 8 numeric, predictive attributes and the target\n",
      "\n",
      "    :Attribute Information:\n",
      "        - MedInc        median income in block\n",
      "        - HouseAge      median house age in block\n",
      "        - AveRooms      average number of rooms\n",
      "        - AveBedrms     average number of bedrooms\n",
      "        - Population    block population\n",
      "        - AveOccup      average house occupancy\n",
      "        - Latitude      house block latitude\n",
      "        - Longitude     house block longitude\n",
      "\n",
      "    :Missing Attribute Values: None\n",
      "\n",
      "This dataset was obtained from the StatLib repository.\n",
      "http://lib.stat.cmu.edu/datasets/\n",
      "\n",
      "The target variable is the median house value for California districts.\n",
      "\n",
      "This dataset was derived from the 1990 U.S. census, using one row per census\n",
      "block group. A block group is the smallest geographical unit for which the U.S.\n",
      "Census Bureau publishes sample data (a block group typically has a population\n",
      "of 600 to 3,000 people).\n",
      "\n",
      "It can be downloaded/loaded using the\n",
      ":func:`sklearn.datasets.fetch_california_housing` function.\n",
      "\n",
      ".. topic:: References\n",
      "\n",
      "    - Pace, R. Kelley and Ronald Barry, Sparse Spatial Autoregressions,\n",
      "      Statistics and Probability Letters, 33 (1997) 291-297\n",
      "\n"
     ]
    },
    {
     "data": {
      "text/plain": [
       "array([[   8.3252    ,   41.        ,    6.98412698, ...,    2.55555556,\n",
       "          37.88      , -122.23      ],\n",
       "       [   8.3014    ,   21.        ,    6.23813708, ...,    2.10984183,\n",
       "          37.86      , -122.22      ],\n",
       "       [   7.2574    ,   52.        ,    8.28813559, ...,    2.80225989,\n",
       "          37.85      , -122.24      ],\n",
       "       ...,\n",
       "       [   1.7       ,   17.        ,    5.20554273, ...,    2.3256351 ,\n",
       "          39.43      , -121.22      ],\n",
       "       [   1.8672    ,   18.        ,    5.32951289, ...,    2.12320917,\n",
       "          39.43      , -121.32      ],\n",
       "       [   2.3886    ,   16.        ,    5.25471698, ...,    2.61698113,\n",
       "          39.37      , -121.24      ]])"
      ]
     },
     "execution_count": 143,
     "metadata": {},
     "output_type": "execute_result"
    }
   ],
   "source": [
    "from sklearn.datasets import fetch_california_housing\n",
    "california = fetch_california_housing()\n",
    "print(california.DESCR)\n",
    "california.data"
   ]
  },
  {
   "cell_type": "code",
   "execution_count": 2,
   "metadata": {},
   "outputs": [],
   "source": [
    "from sklearn.model_selection import train_test_split\n",
    "x_train, x_test, y_train, y_test = train_test_split(california.data, california.target, test_size = 0.1)"
   ]
  },
  {
   "cell_type": "markdown",
   "metadata": {},
   "source": [
    "## Logistic regrssion 용 데이터"
   ]
  },
  {
   "cell_type": "code",
   "execution_count": 118,
   "metadata": {},
   "outputs": [],
   "source": [
    "#  해당 코드는 수정하지 마세요\n",
    "from sklearn.datasets import make_classification\n",
    "\n",
    "\n",
    "X, y = make_classification(n_features=8, n_informative=5,\n",
    "                           n_redundant=3, n_clusters_per_class=1, random_state=4, n_samples =1000 )"
   ]
  },
  {
   "cell_type": "markdown",
   "metadata": {},
   "source": []
  },
  {
   "cell_type": "code",
   "execution_count": 119,
   "metadata": {},
   "outputs": [
    {
     "data": {
      "text/plain": [
       "(1000,)"
      ]
     },
     "execution_count": 119,
     "metadata": {},
     "output_type": "execute_result"
    }
   ],
   "source": [
    "x_train, x_test, y_train, y_test = train_test_split(X, y, test_size = 0.1,random_state = 4) # 90 : 10 으로 데이터 분할\n",
    "y.shape"
   ]
  },
  {
   "cell_type": "code",
   "execution_count": 123,
   "metadata": {},
   "outputs": [
    {
     "name": "stdout",
     "output_type": "stream",
     "text": [
      "(array([2, 7], dtype=int32), array([7, 2], dtype=int32))\n",
      "(array([2, 7], dtype=int32), array([7, 2], dtype=int32))\n",
      "(array([0, 4], dtype=int32), array([4, 0], dtype=int32))\n",
      "(array([0, 4], dtype=int32), array([4, 0], dtype=int32))\n",
      "(array([0, 3], dtype=int32), array([3, 0], dtype=int32))\n",
      "(array([6], dtype=int32), array([7], dtype=int32))\n",
      "(array([5, 6], dtype=int32), array([6, 5], dtype=int32))\n",
      "(array([1], dtype=int32), array([3], dtype=int32))\n"
     ]
    },
    {
     "data": {
      "text/plain": [
       "(5, 5)"
      ]
     },
     "execution_count": 123,
     "metadata": {},
     "output_type": "execute_result"
    }
   ],
   "source": [
    "import numpy as np\n",
    "data = np.transpose(X)        #corrcoef를 만들기 위해서는 feature가 x로 와야함 (8,~) 로 만들어줌\n",
    "ca = np.corrcoef(data)    #넘파이의 corrcoef함수 사용해서 correlation coefficient array 만들어준다\n",
    "maxval = []         #좀 더 자세한 과정을 보여주기 위해서 corrcoef가 높은값들을 따로 저장하기 위한 배열\n",
    "\n",
    "for n in range(0,8):\n",
    "    arr = np.sort(ca[n])     # 오름차순 정렬\n",
    "    maxval.append(arr[6])   # 1.0 값 제외하여야 하니까 6번째 \n",
    "maxval.sort()\n",
    "maxval.reverse()     #큰 순서대로 나타내기 위함\n",
    "for n in range(0,8):\n",
    "    print(np.where(ca == maxval[n]))   #어디 인덱스에 있는지 찾기위함\n",
    "    \n",
    "farr = np.vstack([data[0],data[2],data[3],data[4],data[7]])   #인덱스 찾아서 하나의 배열로 만들어주기 위함\n",
    "ca2 = np.corrcoef(farr)    # 마지막 정리\n",
    "ca2.shape"
   ]
  },
  {
   "cell_type": "code",
   "execution_count": 121,
   "metadata": {},
   "outputs": [
    {
     "data": {
      "image/png": "[encoded data removed]",
      "text/plain": [
       "<Figure size 432x288 with 2 Axes>"
      ]
     },
     "metadata": {
      "needs_background": "light"
     },
     "output_type": "display_data"
    }
   ],
   "source": [
    "import seaborn as sns\n",
    "import matplotlib.pyplot as plt\n",
    "\n",
    "label = []\n",
    "ran = [0,2,3,4,7]\n",
    "for a in range(0,len(ran)):\n",
    "    label.append(ran[a])\n",
    "heatmap2 = sns.heatmap(ca2,cbar = True,annot = True,square = True,fmt = '.2f',annot_kws = {'size':7},\n",
    "                      yticklabels = label,xticklabels = label)\n",
    "plt.show()"
   ]
  },
  {
   "cell_type": "code",
   "execution_count": 122,
   "metadata": {},
   "outputs": [
    {
     "name": "stdout",
     "output_type": "stream",
     "text": [
      "test acc 전체 feature =  0.97 , test acc 5개 feature =  0.94\n"
     ]
    }
   ],
   "source": [
    "from sklearn.linear_model import LogisticRegression,LinearRegression\n",
    "from sklearn.metrics import r2_score\n",
    "\n",
    "logleg = LogisticRegression()   #logistic regression 모델 생성\n",
    "logleg.fit(x_train,y_train)    # train data 전체로 학습 진행\n",
    "pred = logleg.predict(x_test)   # test data로 predict\n",
    "score1 = (pred == y_test).mean() # test acc \n",
    "# rs1 = r2_score(y_test,pred)  \n",
    "\n",
    "\n",
    "logleg2 = LogisticRegression()\n",
    "\n",
    "X_train = np.vstack([x_train[:,0],x_train[:,2],x_train[:,3],x_train[:,4],x_train[:,7]])   #위에서 corrcoef가 높은 5개 feature모아서 데이터 셋 만들기\n",
    "X_train = np.transpose(X_train) #vstack으로 쌓은것은 y_train과 모양이 맞지 않음 (reshape 하나하나 하는 대신에 하는 과정임)\n",
    "logleg2.fit(X_train,y_train)   # 모델 학습\n",
    "\n",
    "X_test = np.vstack([x_test[:,0],x_test[:,2],x_test[:,3],x_test[:,4],x_test[:,7]])  #test set도 마찬가지로 쌓아줌\n",
    "X_test = np.transpose(X_test)\n",
    "pred2 = logleg2.predict(X_test)\n",
    "score2 = (pred2 == y_test).mean()\n",
    "# rs2 = r2_score(y_test,pred2)\n",
    "print(\"test acc 전체 feature = \",score1,\", test acc 5개 feature = \",score2)\n"
   ]
  },
  {
   "cell_type": "code",
   "execution_count": 131,
   "metadata": {},
   "outputs": [
    {
     "data": {
      "text/plain": [
       "array([[ 2.34476576,  0.98214266,  0.62855945, ..., -0.04959654,\n",
       "         1.05254828, -1.32783522],\n",
       "       [ 2.33223796, -0.60701891,  0.32704136, ..., -0.09251223,\n",
       "         1.04318455, -1.32284391],\n",
       "       [ 1.7826994 ,  1.85618152,  1.15562047, ..., -0.02584253,\n",
       "         1.03850269, -1.33282653],\n",
       "       ...,\n",
       "       [-1.14259331, -0.92485123, -0.09031802, ..., -0.0717345 ,\n",
       "         1.77823747, -0.8237132 ],\n",
       "       [-1.05458292, -0.84539315, -0.04021111, ..., -0.09122515,\n",
       "         1.77823747, -0.87362627],\n",
       "       [-0.78012947, -1.00430931, -0.07044252, ..., -0.04368215,\n",
       "         1.75014627, -0.83369581]])"
      ]
     },
     "execution_count": 131,
     "metadata": {},
     "output_type": "execute_result"
    }
   ],
   "source": [
    "from sklearn.preprocessing import StandardScaler\n",
    "std_scaler = StandardScaler()\n",
    "std_scaler.fit(california.data)\n",
    "california.data = std_scaler.transform(california.data)   #normalize ,데이터 정규화 작업\n",
    "california.data"
   ]
  },
  {
   "cell_type": "code",
   "execution_count": 132,
   "metadata": {},
   "outputs": [],
   "source": [
    "x_train, x_test, y_train, y_test = train_test_split(california.data, california.target, test_size = 0.1,random_state = 4)"
   ]
  },
  {
   "cell_type": "code",
   "execution_count": 133,
   "metadata": {},
   "outputs": [
    {
     "name": "stdout",
     "output_type": "stream",
     "text": [
      "0\n"
     ]
    }
   ],
   "source": [
    "def adjust_r2(n,p,r2):   #adjusted R2 함수 만들어서 사용\n",
    "    value = (n - 1)*(1 - r2)/(n-p-1)\n",
    "    return 1 - value\n",
    "\n",
    "max_adjust_val = []   #adjusted r2 score 중 max value를 저장할 배열\n",
    "max_adjust_val_train = [] # adjusted r2 score (train data)중 max value를 저장할 배열\n",
    "adjust_val = []    # adjusted r2 score 전체 저장할 배열\n",
    "adjust_val_train = []   #adjusted r2 score (train data) 전체 저장할 배열\n",
    "\n",
    "for a in range(0,8):                  #총 feature가 8개 이므로 forward selection 진행\n",
    "    linleg = LinearRegression()\n",
    "    first_x_train = x_train[:,a].reshape(-1,1)        #보고서 추가 설명\n",
    "    \n",
    "    first_x_test = x_test[:,a].reshape(-1,1) #forward selection은 feature를 1개 -> 2개 -> 늘려가면서 성능을 좋은것으로 greedy 하게 선택\n",
    "    linleg.fit(first_x_train,y_train)  # 선택한 데이터로 학습\n",
    "    pred = linleg.predict(first_x_test)   # 정확도를 뽑기 위한 예측 실시\n",
    "    r2 = r2_score(y_test,pred)            #r2 score 측정\n",
    "    pred2 = linleg.predict(first_x_train)   # train acc\n",
    "    r2_train = r2_score(y_train,pred2)  #r2 score 측정 (train)\n",
    "    adjust_val.append(adjust_r2(2064,8,r2))    # adjusted r2 score 측정\n",
    "    adjust_val_train.append(adjust_r2(18576,8,r2_train)) # adjusted r2 score (train) 측정\n",
    "    \n",
    "print(adjust_val.index(max(adjust_val))) # 몇 번째 feature가 제일 성능이 좋은지를 위한 index 출력\n",
    "max_adjust_val.append(max(adjust_val))    #나중에 시각화를 위한 자료 기록\n",
    "max_adjust_val_train.append(max(adjust_val_train))"
   ]
  },
  {
   "cell_type": "code",
   "execution_count": 134,
   "metadata": {},
   "outputs": [
    {
     "name": "stdout",
     "output_type": "stream",
     "text": [
      "1\n"
     ]
    }
   ],
   "source": [
    "adjust_val2 = []\n",
    "adjust_val2_train = []\n",
    "for b in range(0,8):     #forward selection 진행 계속 (2 번째 feature 고르기)\n",
    "    linleg = LinearRegression()\n",
    "    \n",
    "    second_x_train = np.hstack([x_train[:,0].reshape(-1,1),x_train[:,b].reshape(-1,1)])  #0번 feature가 첫 단계에서 선택이 됐음\n",
    "    second_x_test = np.hstack([x_test[:,0].reshape(-1,1),x_test[:,b].reshape(-1,1)])\n",
    "    linleg.fit(second_x_train,y_train)   #첫 번째 단계와 동일\n",
    "    pred = linleg.predict(second_x_test)\n",
    "    pred2 = linleg.predict(second_x_train)\n",
    "    r2 = r2_score(y_test,pred)\n",
    "    r2_train = r2_score(y_train,pred2)\n",
    "    adjust_val2.append(adjust_r2(2064,8,r2))\n",
    "    adjust_val2_train.append(adjust_r2(18576,8,r2_train))\n",
    "\n",
    "print(adjust_val2.index(max(adjust_val2)))\n",
    "    \n",
    "max_adjust_val.append(max(adjust_val2))\n",
    "    \n",
    "max_adjust_val_train.append(max(adjust_val2_train))\n",
    "    "
   ]
  },
  {
   "cell_type": "code",
   "execution_count": 135,
   "metadata": {},
   "outputs": [
    {
     "name": "stdout",
     "output_type": "stream",
     "text": [
      "6\n"
     ]
    }
   ],
   "source": [
    "adjust_val3 = []\n",
    "adjust_val3_train = []\n",
    "for c in range(0,8):    #forward selection 진행 계속 (3 번째 feature 고르기)\n",
    "    linleg = LinearRegression()\n",
    "    \n",
    "    third_x_train = np.hstack([x_train[:,0].reshape(-1,1),x_train[:,1].reshape(-1,1),x_train[:,c].reshape(-1,1)]) #0번과 1번이 선택 됐음\n",
    "    third_x_test = np.hstack([x_test[:,0].reshape(-1,1),x_test[:,1].reshape(-1,1),x_test[:,c].reshape(-1,1)])\n",
    "    linleg.fit(third_x_train,y_train)\n",
    "    pred = linleg.predict(third_x_test)\n",
    "    pred2 = linleg.predict(third_x_train)\n",
    "    r2 = r2_score(y_test,pred)\n",
    "    r2_train = r2_score(y_train,pred2)\n",
    "    adjust_val3.append(adjust_r2(2064,8,r2))\n",
    "    adjust_val3_train.append(adjust_r2(18576,8,r2_train))\n",
    "\n",
    "    \n",
    "print(adjust_val3.index(max(adjust_val3)))\n",
    "\n",
    "max_adjust_val.append(max(adjust_val3))\n",
    "\n",
    "max_adjust_val_train.append(max(adjust_val3_train))"
   ]
  },
  {
   "cell_type": "code",
   "execution_count": 136,
   "metadata": {},
   "outputs": [
    {
     "name": "stdout",
     "output_type": "stream",
     "text": [
      "7\n"
     ]
    }
   ],
   "source": [
    "adjust_val4 = []\n",
    "adjust_val4_train = []\n",
    "for d in range(0,8):    #forward selection 4 번째 단계 진행\n",
    "    linleg = LinearRegression()\n",
    "    fourth_x_train = np.hstack([x_train[:,0].reshape(-1,1),x_train[:,1].reshape(-1,1),x_train[:,6].reshape(-1,1),x_train[:,d].reshape(-1,1)])\n",
    "    fourth_x_test = np.hstack([x_test[:,0].reshape(-1,1),x_test[:,1].reshape(-1,1),x_test[:,6].reshape(-1,1),x_test[:,d].reshape(-1,1)])\n",
    "    linleg.fit(fourth_x_train,y_train)\n",
    "    pred = linleg.predict(fourth_x_test) \n",
    "    pred2 = linleg.predict(fourth_x_train)\n",
    "    r2 = r2_score(y_test,pred)\n",
    "    r2_train = r2_score(y_train,pred2)\n",
    "    adjust_val4.append(adjust_r2(2064,8,r2))\n",
    "    adjust_val4_train.append(adjust_r2(18576,8,r2))\n",
    "print(adjust_val4.index(max(adjust_val4)))\n",
    "\n",
    "max_adjust_val.append(max(adjust_val4))\n",
    "max_adjust_val_train.append(max(adjust_val4_train))"
   ]
  },
  {
   "cell_type": "code",
   "execution_count": 137,
   "metadata": {},
   "outputs": [],
   "source": [
    "adjust = []\n",
    "adjust.append(adjust_val)\n",
    "adjust.append(adjust_val2)\n",
    "adjust.append(adjust_val3)\n",
    "adjust.append(adjust_val4)\n",
    "adjust_train = []\n",
    "adjust_train.append(adjust_val_train)\n",
    "adjust_train.append(adjust_val2_train)\n",
    "adjust_train.append(adjust_val3_train)\n",
    "adjust_train.append(adjust_val4_train)"
   ]
  },
  {
   "cell_type": "code",
   "execution_count": 144,
   "metadata": {},
   "outputs": [
    {
     "name": "stdout",
     "output_type": "stream",
     "text": [
      "[0.46771027043454205, 0.48990779651965644, 0.5009346044334102, 0.576302977063271]\n",
      "[0.4735210353462378, 0.5106084718161783, 0.5183826907850217, 0.5777641583918905]\n"
     ]
    },
    {
     "data": {
      "image/png": "[encoded data removed]",
      "text/plain": [
       "<Figure size 432x288 with 1 Axes>"
      ]
     },
     "metadata": {
      "needs_background": "light"
     },
     "output_type": "display_data"
    }
   ],
   "source": [
    "import matplotlib.pyplot as plt\n",
    "#시각화 진행 x축은 variable 개수 y축은 정확도로 나타냄\n",
    "\n",
    "plt.plot(range(1,5),max_adjust_val,label = 'test r2')  #test r2를 나타냄\n",
    "plt.plot(range(1,5),max_adjust_val_train,label = 'train r2')  #train r2 나타냄\n",
    "plt.legend(loc = 'best')\n",
    "plt.xticks(np.arange(1,5,step = 1)) \n",
    "\n",
    "print(max_adjust_val)\n",
    "print(max_adjust_val_train)"
   ]
  },
  {
   "cell_type": "code",
   "execution_count": 64,
   "metadata": {},
   "outputs": [
    {
     "name": "stdout",
     "output_type": "stream",
     "text": [
      "{'alpha': 0.001, 'max_iter': 10000, 'normalize': False}\n",
      "0.6022008789660833\n"
     ]
    },
    {
     "data": {
      "text/plain": [
       "Lasso(alpha=0.001, copy_X=True, fit_intercept=True, max_iter=10000,\n",
       "      normalize=False, positive=False, precompute=False, random_state=None,\n",
       "      selection='cyclic', tol=0.0001, warm_start=False)"
      ]
     },
     "execution_count": 64,
     "metadata": {},
     "output_type": "execute_result"
    }
   ],
   "source": [
    "from sklearn.linear_model import Lasso\n",
    "from sklearn.model_selection import GridSearchCV\n",
    "\n",
    "param_grid = [    #Lasso 모델에서 하이퍼 파라미터 비교를 위한 파라미터들\n",
    "    {'alpha': [0.0001,0.001,0.01,1,5,10,20],\n",
    "    'max_iter': [10000,30000,50000,80000,100000],\n",
    "    'normalize':[True,False]}\n",
    "]\n",
    "gs = GridSearchCV(Lasso(random_state = 95),param_grid = param_grid,cv=5)   #그리드 서치를 통해서 best parameter를 뽑아내도록 한다\n",
    "gs.fit(x_train,y_train)\n",
    "print(gs.best_params_)\n",
    "print(gs.best_score_)\n",
    "lasso = Lasso(alpha = 0.001,max_iter = 10000)\n",
    "lasso.fit(x_train,y_train)\n"
   ]
  },
  {
   "cell_type": "code",
   "execution_count": 65,
   "metadata": {},
   "outputs": [
    {
     "data": {
      "text/plain": [
       "0.5934161351748893"
      ]
     },
     "execution_count": 65,
     "metadata": {},
     "output_type": "execute_result"
    }
   ],
   "source": [
    "pred_lasso = lasso.predict(x_test)\n",
    "r2_lasso = r2_score(y_test,pred_lasso)\n",
    "r2_lasso"
   ]
  },
  {
   "cell_type": "code",
   "execution_count": null,
   "metadata": {},
   "outputs": [],
   "source": []
  },
  {
   "cell_type": "code",
   "execution_count": null,
   "metadata": {},
   "outputs": [],
   "source": []
  },
  {
   "cell_type": "code",
   "execution_count": null,
   "metadata": {},
   "outputs": [],
   "source": []
  }
 ],
 "metadata": {
  "kernelspec": {
   "display_name": "Python 3",
   "language": "python",
   "name": "python3"
  },
  "language_info": {
   "codemirror_mode": {
    "name": "ipython",
    "version": 3
   },
   "file_extension": ".py",
   "mimetype": "text/x-python",
   "name": "python",
   "nbconvert_exporter": "python",
   "pygments_lexer": "ipython3",
   "version": "3.7.4"
  }
 },
 "nbformat": 4,
 "nbformat_minor": 4
}
